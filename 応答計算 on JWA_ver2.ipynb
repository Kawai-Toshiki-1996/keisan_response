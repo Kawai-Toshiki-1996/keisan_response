{
 "cells": [
  {
   "cell_type": "code",
   "execution_count": 38,
   "metadata": {},
   "outputs": [
    {
     "name": "stdout",
     "output_type": "stream",
     "text": [
      "Ok\n"
     ]
    }
   ],
   "source": [
    "import random\n",
    "import json\n",
    "import requests\n",
    "import csv\n",
    "import pandas as pd\n",
    "import math\n",
    "import numpy as np\n",
    "type(np.int32(np.atleast_1d(np.int32(0))))\n",
    "from operator import attrgetter\n",
    "import matplotlib.pyplot as plt\n",
    "print(\"Ok\")"
   ]
  },
  {
   "cell_type": "code",
   "execution_count": 39,
   "metadata": {},
   "outputs": [
    {
     "name": "stdout",
     "output_type": "stream",
     "text": [
      "[2.24160364 2.05555915 1.88495622 1.72851245 1.58505287 1.45349994\n",
      " 1.33286529 1.22224291 1.12080151 1.02777958 0.9424778  0.86425591\n",
      " 0.79252644 0.72674966 0.66643233 0.61112145 0.56040107 0.51388979\n",
      " 0.4712389  0.43212795 0.3962629  0.36337483 0.33321617 0.30556073\n",
      " 0.28020053]\n",
      "Ok\n"
     ]
    }
   ],
   "source": [
    "\"\"\"諸々の定義\"\"\"\n",
    "freq_JWA=2*np.pi*np.array([0.0445953,0.0486315,0.053033,0.0578329,0.0630672,0.0687753,0.075,0.0817881,\n",
    "               0.0891906,0.097263,0.106066,0.1156658,0.1261345,0.1375506,0.15,0.1635762,0.1783811,\n",
    "               0.194526,0.2121321,0.2313317,0.252269,0.2751013,0.3000001,0.3271524,0.3567623])\n",
    "omegalist=freq_JWA[::-1]\n",
    "print(omegalist)\n",
    "encount_omega_2 = np.arange( 0, 2.11,0.04 )\n",
    "\n",
    "n_fruid  = 1    #速度６種類\n",
    "n_angle  = 36   #0~350まで36パターン 0,10,20,30,40,50,60,70,80,90,100,110,120,130,140,150,160,170,180,190,200,\n",
    "n_lambda = 25   #波長40パターン\n",
    "Iy = 2661319053 #mm^2*m^2\n",
    "y_y = 17.612 #[m] 中立軸\n",
    "Zc=82.211#66.122*10**6#82.211[m^3]をなんじゃない？\n",
    "kissui=15.7\n",
    "print(\"Ok\")"
   ]
  },
  {
   "cell_type": "code",
   "execution_count": 40,
   "metadata": {},
   "outputs": [
    {
     "name": "stdout",
     "output_type": "stream",
     "text": [
      "Ok\n"
     ]
    }
   ],
   "source": [
    "\"\"\"応答関数読み込む\"\"\"\n",
    "a = pd.read_csv(\"strip_on_JWA.csv\", encoding=\"shift_jis\",header=0)#widly_20_Sym:shift_jis\n",
    "strip =a.values\n",
    "print(\"Ok\")"
   ]
  },
  {
   "cell_type": "code",
   "execution_count": 15,
   "metadata": {
    "scrolled": true
   },
   "outputs": [
    {
     "ename": "FileNotFoundError",
     "evalue": "[Errno 2] No such file or directory: 'estimation_GA_Smax_2017072918.csv'",
     "output_type": "error",
     "traceback": [
      "\u001b[1;31m---------------------------------------------------------------------------\u001b[0m",
      "\u001b[1;31mFileNotFoundError\u001b[0m                         Traceback (most recent call last)",
      "\u001b[1;32m<ipython-input-15-f52cafc5fe7e>\u001b[0m in \u001b[0;36m<module>\u001b[1;34m()\u001b[0m\n\u001b[0;32m      1\u001b[0m \u001b[1;34m\"\"\"海象データ読み込む\"\"\"\u001b[0m\u001b[1;33m\u001b[0m\u001b[0m\n\u001b[1;32m----> 2\u001b[1;33m \u001b[0mwavedate\u001b[0m\u001b[1;33m=\u001b[0m\u001b[0mpd\u001b[0m\u001b[1;33m.\u001b[0m\u001b[0mread_csv\u001b[0m\u001b[1;33m(\u001b[0m\u001b[1;34m\"estimation_GA_Smax_2017072918.csv\"\u001b[0m\u001b[1;33m,\u001b[0m \u001b[0mencoding\u001b[0m\u001b[1;33m=\u001b[0m\u001b[1;34m\"shift_jis\"\u001b[0m\u001b[1;33m,\u001b[0m\u001b[0mengine\u001b[0m\u001b[1;33m=\u001b[0m\u001b[1;34m\"python\"\u001b[0m\u001b[1;33m)\u001b[0m\u001b[1;31m#\u001b[0m\u001b[1;33m\u001b[0m\u001b[0m\n\u001b[0m\u001b[0;32m      3\u001b[0m \u001b[0mwavedata\u001b[0m\u001b[1;33m=\u001b[0m\u001b[0mwavedate\u001b[0m\u001b[1;33m.\u001b[0m\u001b[0mvalues\u001b[0m\u001b[1;33m[\u001b[0m\u001b[1;33m:\u001b[0m\u001b[1;33m,\u001b[0m\u001b[1;36m1\u001b[0m\u001b[1;33m:\u001b[0m\u001b[1;36m37\u001b[0m\u001b[1;33m]\u001b[0m\u001b[1;33m\u001b[0m\u001b[0m\n\u001b[0;32m      4\u001b[0m \u001b[0mprint\u001b[0m\u001b[1;33m(\u001b[0m\u001b[0mnp\u001b[0m\u001b[1;33m.\u001b[0m\u001b[0mshape\u001b[0m\u001b[1;33m(\u001b[0m\u001b[0mwavedata\u001b[0m\u001b[1;33m)\u001b[0m\u001b[1;33m)\u001b[0m\u001b[1;33m\u001b[0m\u001b[0m\n",
      "\u001b[1;32m~\\Anaconda3\\lib\\site-packages\\pandas\\io\\parsers.py\u001b[0m in \u001b[0;36mparser_f\u001b[1;34m(filepath_or_buffer, sep, delimiter, header, names, index_col, usecols, squeeze, prefix, mangle_dupe_cols, dtype, engine, converters, true_values, false_values, skipinitialspace, skiprows, skipfooter, nrows, na_values, keep_default_na, na_filter, verbose, skip_blank_lines, parse_dates, infer_datetime_format, keep_date_col, date_parser, dayfirst, iterator, chunksize, compression, thousands, decimal, lineterminator, quotechar, quoting, doublequote, escapechar, comment, encoding, dialect, tupleize_cols, error_bad_lines, warn_bad_lines, delim_whitespace, low_memory, memory_map, float_precision)\u001b[0m\n\u001b[0;32m    700\u001b[0m                     skip_blank_lines=skip_blank_lines)\n\u001b[0;32m    701\u001b[0m \u001b[1;33m\u001b[0m\u001b[0m\n\u001b[1;32m--> 702\u001b[1;33m         \u001b[1;32mreturn\u001b[0m \u001b[0m_read\u001b[0m\u001b[1;33m(\u001b[0m\u001b[0mfilepath_or_buffer\u001b[0m\u001b[1;33m,\u001b[0m \u001b[0mkwds\u001b[0m\u001b[1;33m)\u001b[0m\u001b[1;33m\u001b[0m\u001b[0m\n\u001b[0m\u001b[0;32m    703\u001b[0m \u001b[1;33m\u001b[0m\u001b[0m\n\u001b[0;32m    704\u001b[0m     \u001b[0mparser_f\u001b[0m\u001b[1;33m.\u001b[0m\u001b[0m__name__\u001b[0m \u001b[1;33m=\u001b[0m \u001b[0mname\u001b[0m\u001b[1;33m\u001b[0m\u001b[0m\n",
      "\u001b[1;32m~\\Anaconda3\\lib\\site-packages\\pandas\\io\\parsers.py\u001b[0m in \u001b[0;36m_read\u001b[1;34m(filepath_or_buffer, kwds)\u001b[0m\n\u001b[0;32m    427\u001b[0m \u001b[1;33m\u001b[0m\u001b[0m\n\u001b[0;32m    428\u001b[0m     \u001b[1;31m# Create the parser.\u001b[0m\u001b[1;33m\u001b[0m\u001b[1;33m\u001b[0m\u001b[0m\n\u001b[1;32m--> 429\u001b[1;33m     \u001b[0mparser\u001b[0m \u001b[1;33m=\u001b[0m \u001b[0mTextFileReader\u001b[0m\u001b[1;33m(\u001b[0m\u001b[0mfilepath_or_buffer\u001b[0m\u001b[1;33m,\u001b[0m \u001b[1;33m**\u001b[0m\u001b[0mkwds\u001b[0m\u001b[1;33m)\u001b[0m\u001b[1;33m\u001b[0m\u001b[0m\n\u001b[0m\u001b[0;32m    430\u001b[0m \u001b[1;33m\u001b[0m\u001b[0m\n\u001b[0;32m    431\u001b[0m     \u001b[1;32mif\u001b[0m \u001b[0mchunksize\u001b[0m \u001b[1;32mor\u001b[0m \u001b[0miterator\u001b[0m\u001b[1;33m:\u001b[0m\u001b[1;33m\u001b[0m\u001b[0m\n",
      "\u001b[1;32m~\\Anaconda3\\lib\\site-packages\\pandas\\io\\parsers.py\u001b[0m in \u001b[0;36m__init__\u001b[1;34m(self, f, engine, **kwds)\u001b[0m\n\u001b[0;32m    893\u001b[0m             \u001b[0mself\u001b[0m\u001b[1;33m.\u001b[0m\u001b[0moptions\u001b[0m\u001b[1;33m[\u001b[0m\u001b[1;34m'has_index_names'\u001b[0m\u001b[1;33m]\u001b[0m \u001b[1;33m=\u001b[0m \u001b[0mkwds\u001b[0m\u001b[1;33m[\u001b[0m\u001b[1;34m'has_index_names'\u001b[0m\u001b[1;33m]\u001b[0m\u001b[1;33m\u001b[0m\u001b[0m\n\u001b[0;32m    894\u001b[0m \u001b[1;33m\u001b[0m\u001b[0m\n\u001b[1;32m--> 895\u001b[1;33m         \u001b[0mself\u001b[0m\u001b[1;33m.\u001b[0m\u001b[0m_make_engine\u001b[0m\u001b[1;33m(\u001b[0m\u001b[0mself\u001b[0m\u001b[1;33m.\u001b[0m\u001b[0mengine\u001b[0m\u001b[1;33m)\u001b[0m\u001b[1;33m\u001b[0m\u001b[0m\n\u001b[0m\u001b[0;32m    896\u001b[0m \u001b[1;33m\u001b[0m\u001b[0m\n\u001b[0;32m    897\u001b[0m     \u001b[1;32mdef\u001b[0m \u001b[0mclose\u001b[0m\u001b[1;33m(\u001b[0m\u001b[0mself\u001b[0m\u001b[1;33m)\u001b[0m\u001b[1;33m:\u001b[0m\u001b[1;33m\u001b[0m\u001b[0m\n",
      "\u001b[1;32m~\\Anaconda3\\lib\\site-packages\\pandas\\io\\parsers.py\u001b[0m in \u001b[0;36m_make_engine\u001b[1;34m(self, engine)\u001b[0m\n\u001b[0;32m   1130\u001b[0m                                  ' \"c\", \"python\", or' ' \"python-fwf\")'.format(\n\u001b[0;32m   1131\u001b[0m                                      engine=engine))\n\u001b[1;32m-> 1132\u001b[1;33m             \u001b[0mself\u001b[0m\u001b[1;33m.\u001b[0m\u001b[0m_engine\u001b[0m \u001b[1;33m=\u001b[0m \u001b[0mklass\u001b[0m\u001b[1;33m(\u001b[0m\u001b[0mself\u001b[0m\u001b[1;33m.\u001b[0m\u001b[0mf\u001b[0m\u001b[1;33m,\u001b[0m \u001b[1;33m**\u001b[0m\u001b[0mself\u001b[0m\u001b[1;33m.\u001b[0m\u001b[0moptions\u001b[0m\u001b[1;33m)\u001b[0m\u001b[1;33m\u001b[0m\u001b[0m\n\u001b[0m\u001b[0;32m   1133\u001b[0m \u001b[1;33m\u001b[0m\u001b[0m\n\u001b[0;32m   1134\u001b[0m     \u001b[1;32mdef\u001b[0m \u001b[0m_failover_to_python\u001b[0m\u001b[1;33m(\u001b[0m\u001b[0mself\u001b[0m\u001b[1;33m)\u001b[0m\u001b[1;33m:\u001b[0m\u001b[1;33m\u001b[0m\u001b[0m\n",
      "\u001b[1;32m~\\Anaconda3\\lib\\site-packages\\pandas\\io\\parsers.py\u001b[0m in \u001b[0;36m__init__\u001b[1;34m(self, f, **kwds)\u001b[0m\n\u001b[0;32m   2223\u001b[0m         f, handles = _get_handle(f, mode, encoding=self.encoding,\n\u001b[0;32m   2224\u001b[0m                                  \u001b[0mcompression\u001b[0m\u001b[1;33m=\u001b[0m\u001b[0mself\u001b[0m\u001b[1;33m.\u001b[0m\u001b[0mcompression\u001b[0m\u001b[1;33m,\u001b[0m\u001b[1;33m\u001b[0m\u001b[0m\n\u001b[1;32m-> 2225\u001b[1;33m                                  memory_map=self.memory_map)\n\u001b[0m\u001b[0;32m   2226\u001b[0m         \u001b[0mself\u001b[0m\u001b[1;33m.\u001b[0m\u001b[0mhandles\u001b[0m\u001b[1;33m.\u001b[0m\u001b[0mextend\u001b[0m\u001b[1;33m(\u001b[0m\u001b[0mhandles\u001b[0m\u001b[1;33m)\u001b[0m\u001b[1;33m\u001b[0m\u001b[0m\n\u001b[0;32m   2227\u001b[0m \u001b[1;33m\u001b[0m\u001b[0m\n",
      "\u001b[1;32m~\\Anaconda3\\lib\\site-packages\\pandas\\io\\common.py\u001b[0m in \u001b[0;36m_get_handle\u001b[1;34m(path_or_buf, mode, encoding, compression, memory_map, is_text)\u001b[0m\n\u001b[0;32m    422\u001b[0m         \u001b[1;32melif\u001b[0m \u001b[0mencoding\u001b[0m\u001b[1;33m:\u001b[0m\u001b[1;33m\u001b[0m\u001b[0m\n\u001b[0;32m    423\u001b[0m             \u001b[1;31m# Python 3 and encoding\u001b[0m\u001b[1;33m\u001b[0m\u001b[1;33m\u001b[0m\u001b[0m\n\u001b[1;32m--> 424\u001b[1;33m             \u001b[0mf\u001b[0m \u001b[1;33m=\u001b[0m \u001b[0mopen\u001b[0m\u001b[1;33m(\u001b[0m\u001b[0mpath_or_buf\u001b[0m\u001b[1;33m,\u001b[0m \u001b[0mmode\u001b[0m\u001b[1;33m,\u001b[0m \u001b[0mencoding\u001b[0m\u001b[1;33m=\u001b[0m\u001b[0mencoding\u001b[0m\u001b[1;33m,\u001b[0m \u001b[0mnewline\u001b[0m\u001b[1;33m=\u001b[0m\u001b[1;34m\"\"\u001b[0m\u001b[1;33m)\u001b[0m\u001b[1;33m\u001b[0m\u001b[0m\n\u001b[0m\u001b[0;32m    425\u001b[0m         \u001b[1;32melif\u001b[0m \u001b[0mis_text\u001b[0m\u001b[1;33m:\u001b[0m\u001b[1;33m\u001b[0m\u001b[0m\n\u001b[0;32m    426\u001b[0m             \u001b[1;31m# Python 3 and no explicit encoding\u001b[0m\u001b[1;33m\u001b[0m\u001b[1;33m\u001b[0m\u001b[0m\n",
      "\u001b[1;31mFileNotFoundError\u001b[0m: [Errno 2] No such file or directory: 'estimation_GA_Smax_2017072918.csv'"
     ]
    }
   ],
   "source": [
    "\"\"\"海象データ読み込む\"\"\"\n",
    "wavedate=pd.read_csv(\"estimation_GA_Smax_2017072918.csv\", encoding=\"shift_jis\",engine=\"python\")#\n",
    "wavedata=wavedate.values[:,1:37]\n",
    "print(np.shape(wavedata))"
   ]
  },
  {
   "cell_type": "code",
   "execution_count": 35,
   "metadata": {},
   "outputs": [],
   "source": [
    "class Wave_Spectrum:    \n",
    "    def __init__(self):\n",
    "        self.Hv_1    =Hv_1\n",
    "        self.theta_1 =theta_1\n",
    "        self.lambda_1=lambda_1\n",
    "        self.omega_1 =omega_1\n",
    "        #self.S_max1  =0\n",
    "        \n",
    "        self.Hv_2    =Hv_2\n",
    "        self.theta_2 =theta_2\n",
    "        self.lambda_2=lambda_2\n",
    "        self.omega_2 =omega_2\n",
    "        #self.S_max2  =0\n",
    "    \n",
    "    def def_S_max(self,H,omega_m):\n",
    "        HL=H/(1.56*4*math.pi**2/omega_m**2)\n",
    "        \"\"\"波集中度s1の周波数依存\"\"\"\n",
    "        if H==0:\n",
    "            S_max=0\n",
    "        elif HL<0.026:\n",
    "            log_10=0.4444*math.log10(HL)+0.5849\n",
    "            a=10**(log_10)\n",
    "            S_max=12.99*a**(-2.5)     \n",
    "        elif HL>=0.026:\n",
    "            log10_gF=(0.1507-math.sqrt(0.1507**2+4*0.005882*0.8789+4*0.005882*math.log10(HL)))/(2*0.005882)\n",
    "            gF=10**log10_gF\n",
    "            gT=1.37*(1-1/(1+0.008*gF**(1/3))**5)\n",
    "            S_max=12.99*gT**2.5\n",
    "        return np.array([(S_max*i**5/omega_m**5) if i<=omega_m else (S_max*i**(-2.5)/omega_m**(-2.5)) for i in omegalist])#S_max\n",
    "        \n",
    "    def A(self,x):\n",
    "        \"\"\"ガンマ関数×2^(2s-1)÷π\"\"\"\n",
    "        if x >= 84:\n",
    "            direction_m=np.prod([2*(x-k)/(2*x-2*k-1) for k in range(int(x))])*2**(2*x-2*int(x)-1)*(math.gamma(x-int(x)+1))**2.0/(np.pi*math.gamma(2*x-2*int(x)+1))\n",
    "        else:\n",
    "            direction_m=2.0**(2.0*x-1.0)*(math.gamma(x+1.0))**2.0/math.pi/math.gamma(2.0*x+1.0)\n",
    "        return direction_m\n",
    "    \n",
    "    def spectrum(self,Hv_m,lambda_m,omega_m,omega):\n",
    "        \"\"\"2π掛けてること忘れずに\"\"\"\n",
    "        spectrum_1=0.250*((4.0*lambda_m+1.0)/4.0*omega_m**4.0)**lambda_m*Hv_1**2.0/omega**(4.0*lambda_m+1.0)/math.gamma(lambda_m)\n",
    "        spectrum_2=math.exp(-(4.0*lambda_m+1.0)/4.0*(omega_m/omega)**4.0)\n",
    "        return 2*np.pi*spectrum_1*spectrum_2\n",
    "    \n",
    "    def Direc(self,s_m,theta_m,theta_c):\n",
    "        \"\"\"2次元方向分布の値の計算\"\"\"\n",
    "        return np.array([[abs((math.cos((180-j*10-theta_m+theta_c)/2.0*math.pi/180.0)))**(2.0*s_m[i]) for j in range(36)] for i in range(25)])\n",
    "\n",
    "    def Directional_wave_spectrum(self,theta_c):       \n",
    "        \"\"\"S_maxの計算とsの関数の計算\"\"\"\n",
    "        s_1,s_2 =self.def_S_max(self.Hv_1,self.omega_1),self.def_S_max(self.Hv_2,self.omega_2)\n",
    "        \"\"\"周波数方向のスペクトルの値の計算\"\"\"\n",
    "        Ochi_A_1=[self.spectrum(self.Hv_1,self.lambda_1,self.omega_1,omegalist[i])*self.A(s_1[i]) for i in range(25)]\n",
    "        Ochi_A_2=[self.spectrum(self.Hv_2,self.lambda_2,self.omega_2,omegalist[i])*self.A(s_2[i]) for i in range(25)]\n",
    "        \"\"\"2次元方向分布の値の計算\"\"\"\n",
    "        Direc_1=self.Direc(s_1,self.theta_1,theta_c)\n",
    "        Direc_2=self.Direc(s_2,self.theta_2,theta_c)\n",
    "        \"\"\"配列の積と二峰分のエネルギーの和\"\"\"\n",
    "        Spectrum_2D = np.expand_dims(Ochi_A_1,1)*Direc_1 + np.expand_dims(Ochi_A_2,1)*Direc_2#np.expand_dimsで1次元配列を25行1列の配列にした後，ブロードキャスト\n",
    "        return [[Spectrum_2D[i][j] for j in range(36)] for i in range(25)]\n",
    "\n",
    "\n",
    "class Data_Handling(Wave_Spectrum):\n",
    "    def __init__(self,column1,column2):\n",
    "        self.column1=column1\n",
    "        self.column2=column2\n",
    "        self.response1=strip[:][self.column1]\n",
    "        self.response2=strip[:][self.column2]\n",
    "        self.Se_data=[]\n",
    "        self.S_data=[]\n",
    "        self.z1= 1000*9.8065/Zc/10**6 if column1 == 5 else 1  #1000*9.8065/Zc[m^3]/10^6なんじゃない？#1000*9.8065/Zc\n",
    "        self.z2= 1000*9.8065/Zc/10**6 if column1 == 5 else 1  #1000*9.8065/Zc\n",
    "        self.Matrix=[[0 for k in range(2)] for l in range(len(encount_omega_2))] #list(np.linspace(0, 0, len(encount_omega_2)))\n",
    "        #self.omega_vertex=\n",
    "        self.V  =Fn*math.sqrt(349.2*9.80655)\n",
    "    \n",
    "    def Response_calculation(self,line1):\n",
    "        #X_Conjugate = strip[line1][self.column1]*(math.cos(-strip[line1][self.column1+1]*math.pi/180)+1j*math.sin(-strip[line1][self.column1+1]*math.pi/180))\n",
    "        #Y= strip[line1][self.column2]*(math.cos(strip[line1][self.column2+1]*math.pi/180)+1j*math.sin(strip[line1][self.column2+1]*math.pi/180)) \n",
    "        return strip[line1][self.column1]*strip[line1][self.column1]#X_Conjugate*Y #strip_data[line][Column_1]\n",
    "    \n",
    "    def dw_function(self,omega_number):\n",
    "        return np.abs(1.0-2.0*self.V/9.80655*omegalist[omega_number]*math.cos(encount_angle*math.pi/180.0))        \n",
    "    \n",
    "    def To_trans_Se(self,line,w,j):#Eomega1,2=Eomega_fore,aft\n",
    "        \"\"\"線形補間\"\"\"   \n",
    "        Sf_re,Sa_re=self.Response_calculation(line)*wave_values[w][j],self.Response_calculation(line-1)*wave_values[w-1][j]#self.Response_calculation(line).real*wave_values[w],self.Response_calculation(line-1).real*wave_values[w-1]\n",
    "        Sf_im,Sa_im=0,0#self.Response_calculation(line).imag*wave_values[w],self.Response_calculation(line-1).imag*wave_values[w-1]\n",
    "        dw= omegalist[w]-omegalist[w-1]\n",
    "        for w_e in list_omega_j:        \n",
    "            if switch == 1: #頂点のx座標が挟まれる場合\n",
    "                self.Matrix[w_e][0] += (Sa_re+Sf_re)*dw/2/(omega_vertex/2-min(Eomega1,Eomega2))\n",
    "                self.Matrix[w_e][1] += (Sa_im+Sf_im)*dw/2/(omega_vertex/2-min(Eomega1,Eomega2))\n",
    "            elif switch == 2: #x軸との交点が挟まれる場合\n",
    "                self.Matrix[w_e][0] += (Sa_re+Sf_re)*dw/2/max(Eomega1,Eomega2)\n",
    "                self.Matrix[w_e][1] += (Sa_im+Sf_im)*dw/2/max(Eomega1,Eomega2)\n",
    "            else:\n",
    "                dwe1 = self.dw_function(w-1)\n",
    "                dwe2 = self.dw_function(w)\n",
    "                self.Matrix[w_e][0] +=(Eomega2-encount_omega_2[w_e])/(Eomega2-Eomega1)*Sa_re/dwe1+(encount_omega_2[w_e]-Eomega1)/(Eomega2-Eomega1)*Sf_re/dwe2\n",
    "                self.Matrix[w_e][1] +=(Eomega2-encount_omega_2[w_e])/(Eomega2-Eomega1)*Sa_im/dwe1+(encount_omega_2[w_e]-Eomega1)/(Eomega2-Eomega1)*Sf_im/dwe2\n",
    "            \n",
    "    def final_keisan(self):\n",
    "        F =np.zeros(len(encount_omega_2))\n",
    "        for w_e in range(len(encount_omega_2)):\n",
    "            F[w_e] += math.sqrt(self.Matrix[w_e][0]**2+self.Matrix[w_e][1]**2)*self.z1*self.z2\n",
    "        plt.plot(encount_omega_2,F,'-o')\n",
    "        plt.grid()\n",
    "        plt.xlabel('ω[rad/s]')\n",
    "        plt.show()\n",
    "        return F\n",
    "    \n",
    "    def X_final_keisan(self):\n",
    "        \"\"\"足し合わせたベクトルの角度\"\"\"\n",
    "        F_Re=self.Matrix[w_e][0]*self.z1*self.z2\n",
    "        F_Im=self.Matrix[w_e][1]*self.z1*self.z2\n",
    "        \n",
    "\n",
    "\n",
    "\"\"\"ここからはクラスによらないdef関数が続く\"\"\"\n",
    "def get_parameter_from_ind():\n",
    "    \"\"\"波高\"\"\"\n",
    "    Hv_1=0.5+13.5*random.uniform(0,1)\n",
    "    Hv_2= (0.01*Hv_1**2.3+0.5) +((5*(0.9*Hv_1**2-0.44*Hv_1)**0.1)-(0.01*Hv_1**2.3+0.5))*random.uniform(0,1)\n",
    "    Hs    =np.sqrt(Hv_1**2+Hv_2**2)\n",
    "    \n",
    "    \"\"\"波周波数\"\"\"\n",
    "    omega_1 = 2*np.pi/16*np.exp(-0.005*Hs*3.28084)+(2*np.pi/6*np.exp(-0.017*Hs*3.28084)-2*np.pi/16*np.exp(-0.005*Hs*3.28084))*random.uniform(0,1)\n",
    "    w_lower = omega_1 if omega_1>=0.6 else 0.6\n",
    "    omega_2 = w_lower+(2*np.pi/4*np.exp(-0.014*Hs*3.28084)-w_lower)*random.uniform(0,1)\n",
    "        \n",
    "    \"\"\"波向\"\"\"\n",
    "    theta_1  =random.random()*360\n",
    "    theta_2  =random.random()*360\n",
    "    \n",
    "    \"\"\"s\"\"\"\n",
    "    #S_max1=\n",
    "    #S_max2=\n",
    "    \n",
    "    \"\"\"尖度\"\"\"\n",
    "    lambda_1 =0.1+9.9*random.uniform(0,1)\n",
    "    lambda_temp=lambda_1 if lambda_1<=6 else 6\n",
    "    lambda_2 =0.1+(lambda_temp-0.1)*random.uniform(0,1)\n",
    "\n",
    "    \"\"\"\n",
    "    omega_1 = 2*np.pi/14 + (1.2-2*np.pi/14)*random.random()\n",
    "    Wm2_min =omega_1 if omega_1>=0.6 else 0.6\n",
    "    omega_2 =Wm2_min+(2*np.pi/4-Wm2_min)*random.random()\n",
    "\n",
    "    T1      =2*np.pi/omega_1\n",
    "    T2      =2*np.pi/omega_2\n",
    "    Hv_1    =strip_data[int(T1)-4][24]+(strip_data[int(T1)-4][25]-strip_data[int(T1)-4][24])*random.random()\n",
    "    H2_max  =np.sqrt(15**2-Hv_1**2) if np.sqrt(Hv_1**2+strip_data[int(T2)-4][25]**2)>=15 else strip_data[int(T2)-4][25]\n",
    "    H2_min  =strip_data[int(T2)-4][24]\n",
    "    Hv_2    = H2_min+(H2_max-H2_min)*random.random()\"\"\"\n",
    "\n",
    "    Hv_1,theta_1,lambda_1,omega_1,Hv_2,theta_2,lambda_2,omega_2=2.37,-75.41108127,0.85,0.47,2.54,-154.4400348,2.05,0.695\n",
    "    return Hv_1,theta_1,lambda_1,omega_1,Hv_2,theta_2,lambda_2,omega_2#S_max1,S_max2\n",
    "\n",
    "def search_omega_i(i):\n",
    "    \"\"\"間に入る出会い波周波数のリスト作成\"\"\"\n",
    "    Eomega1=np.abs(omegalist[i-1]*(1-Fn*math.sqrt(349.2*9.80655)/9.80655*omegalist[i-1]*math.cos(encount_angle*math.pi/180)))\n",
    "    Eomega2=np.abs(omegalist[i]*(1-Fn*math.sqrt(349.2*9.80655)/9.80655*omegalist[i]*math.cos(encount_angle*math.pi/180)))\n",
    "    Eomega_fore = max(Eomega1,Eomega2)\n",
    "    Eomega_aft =  min(Eomega1,Eomega2)\n",
    "    switch=0#0は通常，１は頂点が挟まれる，２はｘとの交点が挟まれる\n",
    "    if (omega_vertex - omegalist[i-1])*(omega_vertex -omegalist[i]) <= 0.000: #頂点のx座標が挟まれる場合\n",
    "        Eomega_fore = omega_vertex/2 #頂点のy座標はx座標の半分だから\n",
    "        switch=1\n",
    "    elif (omega_vertex*2 - omegalist[i-1])*(omega_vertex*2 -omegalist[i]) <= 0: #x軸との交点が挟まれる場合\n",
    "        Eomega_aft = np.abs(0.0)\n",
    "        switch=2\n",
    "    return np.arange(len(encount_omega_2))[np.array( (encount_omega_2-Eomega_fore)*(encount_omega_2-Eomega_aft) <= 0 ).flatten()] ,Eomega1, Eomega2,switch"
   ]
  },
  {
   "cell_type": "code",
   "execution_count": 37,
   "metadata": {},
   "outputs": [
    {
     "data": {
      "image/png": "[encoded data removed]",
      "text/plain": [
       "<Figure size 432x288 with 1 Axes>"
      ]
     },
     "metadata": {},
     "output_type": "display_data"
    },
    {
     "data": {
      "image/png": "[encoded data removed]",
      "text/plain": [
       "<Figure size 432x288 with 1 Axes>"
      ]
     },
     "metadata": {},
     "output_type": "display_data"
    },
    {
     "data": {
      "image/png": "[encoded data removed]",
      "text/plain": [
       "<Figure size 432x288 with 1 Axes>"
      ]
     },
     "metadata": {},
     "output_type": "display_data"
    },
    {
     "data": {
      "image/png": "[encoded data removed]",
      "text/plain": [
       "<Figure size 432x288 with 1 Axes>"
      ]
     },
     "metadata": {},
     "output_type": "display_data"
    }
   ],
   "source": [
    "for seastate in range(1): \n",
    "    random.seed()\n",
    "    \"\"\"この海象のパラメータ\"\"\"\n",
    "    Hv_1,theta_1,lambda_1,omega_1,Hv_2,theta_2,lambda_2,omega_2 = 4.27,-78.7,1.18,0.65,1.42,-123.9,0.97,0.785\n",
    "    #get_parameter_from_ind()#S_max1,S_max2\n",
    "    theta_course=287\n",
    "    \"\"\"相対波向きに注意\"\"\"\n",
    "    wave=Wave_Spectrum()\n",
    "    #wave.S_max1=32.37\n",
    "    #wave.S_max2=6.23\n",
    "    \n",
    "    for speed in range(1): #6フルード数ごと 0,5,10,15,20,25\n",
    "        Fn    = 0.176*0.6#strip_data[n_lambda*n_angle*k][0]#フルード数\n",
    "        wave_values=wave.Directional_wave_spectrum(theta_course)\n",
    "        \n",
    "        \"\"\"データを扱うためのクラス\"\"\"\n",
    "        Pitch=Data_Handling(4,4)#13\n",
    "        Roll =Data_Handling(3,3)\n",
    "        Heave=Data_Handling( 2, 2)\n",
    "        Load =Data_Handling(5,5)#zを乗算するところのif分で列番号直すの忘れずに！\n",
    "        #Pitch_Roll  =Data_Handling(13,11)\n",
    "        #Roll_Heave  =Data_Handling(11, 9)\n",
    "        #Heave_Pitch =Data_Handling( 9,13)\n",
    "        #Load_Roll   =Data_Handling(17,11)\n",
    "        #Load_Heave  =Data_Handling(17, 9)\n",
    "        #Load_Pitch  =Data_Handling(17,13)\n",
    "        \n",
    "        for j,encount_angle in enumerate(np.arange(0,360,360/n_angle)): #36の角度          \n",
    "            omega_vertex  = 9.80655/(2*Fn*math.sqrt(349.2*9.80655)*math.cos(encount_angle*math.pi/180)) #頂点のx座標\n",
    "            \n",
    "            for w in range(1,len(omegalist)): #25周波数ごと n_lambda\n",
    "                line = w+n_lambda*j+n_lambda*n_angle*speed    #行           \n",
    "                list_omega_j,Eomega1, Eomega2,switch = search_omega_i(w)\n",
    "                \"\"\"それぞれの応答で変換実行\"\"\"                    \n",
    "                Pitch.To_trans_Se(line,w,j)#注意！！複素数ではなく純虚数対応になってるよ\n",
    "                Roll.To_trans_Se(line,w,j)\n",
    "                Heave.To_trans_Se(line,w,j)\n",
    "                Load.To_trans_Se(line,w,j)\n",
    "                #Pitch_Roll.To_trans_Se()\n",
    "                #Roll_Heave.To_trans_Se()\n",
    "                #Heave_Pitch.To_trans_Se()\n",
    "                #Load_Roll.To_trans_Se()\n",
    "                #Load_Heave.To_trans_Se()\n",
    "                #Load_Pitch.To_trans_Se()\n",
    "        \"\"\"最終アウトプット\"\"\"        \n",
    "        Ptch_ver3 =Pitch.final_keisan()\n",
    "        Roll_ver3 =Roll.final_keisan()\n",
    "        Heave_ver3=Heave.final_keisan()\n",
    "        Load_ver3 =Load.final_keisan()\n",
    "        #Pitch_Roll.X_final_keisan()\n",
    "        #Roll_Heave.X_final_keisan()\n",
    "        #Heave_Pitch.X_final_keisan()\n",
    "        #Load_Roll.X_final_keisan()\n",
    "        #Load_Heave.X_final_keisan()\n",
    "        #Load_Pitch.X_final_keisan()\n",
    "    #print(SeaState+1)\n"
   ]
  },
  {
   "cell_type": "code",
   "execution_count": null,
   "metadata": {},
   "outputs": [],
   "source": [
    "plt.plot(encount_omega_2,Load_ver3,'-o')\n",
    "plt.grid()\n",
    "plt.xlabel('ω[rad/s]')\n",
    "plt.show()"
   ]
  },
  {
   "cell_type": "code",
   "execution_count": null,
   "metadata": {},
   "outputs": [],
   "source": []
  }
 ],
 "metadata": {
  "kernelspec": {
   "display_name": "Python 3",
   "language": "python",
   "name": "python3"
  },
  "language_info": {
   "codemirror_mode": {
    "name": "ipython",
    "version": 3
   },
   "file_extension": ".py",
   "mimetype": "text/x-python",
   "name": "python",
   "nbconvert_exporter": "python",
   "pygments_lexer": "ipython3",
   "version": "3.6.5"
  }
 },
 "nbformat": 4,
 "nbformat_minor": 2
}
