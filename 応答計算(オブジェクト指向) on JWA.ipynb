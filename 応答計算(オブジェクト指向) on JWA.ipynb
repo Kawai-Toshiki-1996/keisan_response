{
 "cells": [
  {
   "cell_type": "code",
   "execution_count": 1,
   "metadata": {},
   "outputs": [
    {
     "name": "stdout",
     "output_type": "stream",
     "text": [
      "Ok\n"
     ]
    }
   ],
   "source": [
    "import random\n",
    "import json\n",
    "import requests\n",
    "import csv\n",
    "import pandas as pd\n",
    "import math\n",
    "import numpy as np\n",
    "type(np.int32(np.atleast_1d(np.int32(0))))\n",
    "from operator import attrgetter\n",
    "import matplotlib.pyplot as plt\n",
    "print(\"Ok\")"
   ]
  },
  {
   "cell_type": "code",
   "execution_count": 182,
   "metadata": {},
   "outputs": [
    {
     "name": "stdout",
     "output_type": "stream",
     "text": [
      "Ok\n"
     ]
    }
   ],
   "source": [
    "\"\"\"諸々の定義\"\"\"\n",
    "freq_JWA=2*np.pi*np.array([0.0445953,0.0486315,0.053033,0.0578329,0.0630672,0.0687753,0.075,0.0817881,\n",
    "               0.0891906,0.097263,0.106066,0.1156658,0.1261345,0.1375506,0.15,0.1635762,0.1783811,\n",
    "               0.194526,0.2121321,0.2313317,0.252269,0.2751013,0.3000001,0.3271524,0.3567623])\n",
    "omegalist=freq_JWA[::-1]\n",
    "encount_omega_2 = np.arange( 0, 2.11,0.03 )\n",
    "\n",
    "n_fruid  = 1    #速度６種類\n",
    "n_angle  = 36   #0~350まで36パターン 0,10,20,30,40,50,60,70,80,90,100,110,120,130,140,150,160,170,180,190,200,\n",
    "n_lambda = 25   #波長40パターン\n",
    "Iy = 2661319053 #mm^2*m^2\n",
    "y_y = 17.612 #[m] 中立軸\n",
    "Zc=66.122*10**6\n",
    "kissui=15.7\n",
    "print(\"Ok\")"
   ]
  },
  {
   "cell_type": "code",
   "execution_count": 116,
   "metadata": {},
   "outputs": [
    {
     "name": "stdout",
     "output_type": "stream",
     "text": [
      "Ok\n"
     ]
    }
   ],
   "source": [
    "\"\"\"応答関数読み込む\"\"\"\n",
    "a = pd.read_csv(\"strip_on_JWA.csv\", encoding=\"shift_jis\")#widly_20_Sym:shift_jis\n",
    "strip =a.values\n",
    "print(\"Ok\")"
   ]
  },
  {
   "cell_type": "code",
   "execution_count": 117,
   "metadata": {},
   "outputs": [
    {
     "name": "stdout",
     "output_type": "stream",
     "text": [
      "(25, 36)\n"
     ]
    }
   ],
   "source": [
    "\"\"\"海象データ読み込む\"\"\"\n",
    "wavedate=pd.read_csv(\"target.csv\", encoding=\"shift_jis\",engine=\"python\")#\n",
    "wavedata=wavedate.values[:,1:37]\n",
    "print(np.shape(wavedata))"
   ]
  },
  {
   "cell_type": "code",
   "execution_count": 217,
   "metadata": {},
   "outputs": [],
   "source": [
    "class Wave_Spectrum:    \n",
    "    def __init__(self):\n",
    "        self.Hv_1    =Hv_1\n",
    "        self.theta_1 =theta_1\n",
    "        self.lambda_1=lambda_1\n",
    "        self.omega_1 =omega_1\n",
    "        self.S_max1  =0\n",
    "        #self.s_1     =0\n",
    "        self.Hv_2    =Hv_2\n",
    "        self.theta_2 =theta_2\n",
    "        self.lambda_2=lambda_2\n",
    "        self.omega_2 =omega_2\n",
    "        self.S_max2  =0\n",
    "        #self.s_2     =0\n",
    "    \n",
    "    def def_S_max(self,H,omega_m):\n",
    "        HL=H/(1.56*4*math.pi**2/omega_m**2)\n",
    "        if HL<0.026:\n",
    "            log_10=0.4444*math.log10(HL)+0.5849\n",
    "            a=10**(log_10)\n",
    "            S_max=12.99*a**(-2.5)\n",
    "        elif HL>=0.026:\n",
    "            log10_gF=(0.1507-math.sqrt(0.1507**2+4*0.005882*0.8789+4*0.005882*math.log10(HL)))/(2*0.005882)\n",
    "            gF=10**log10_gF\n",
    "            gT=1.37*(1-1/(1+0.008*gF**(1/3))**5)\n",
    "            S_max=12.99*gT**2.5\n",
    "            \n",
    "        return S_max if S_max <=84 else 84\n",
    "        \n",
    "    def spectrum(self,Hv,theta_m,lambda_m,omega_m,s,theta_func,omega):\n",
    "        spectrum_11=0.250*((4.0*lambda_m+1.0)/4.0*omega_m**4.0)**lambda_m\n",
    "        spectrum_12=math.gamma(lambda_m)\n",
    "        spectrum_16=Hv**2.0\n",
    "        spectrum_13=omega**(4.0*lambda_m+1.0)\n",
    "        spectrum_14=2.0**(2.0*s-1.0)*(math.gamma(s+1.0))**2.0/math.pi/math.gamma(2.0*s+1.0)\n",
    "        spectrum_15=abs((math.cos((theta_func-theta_m)/2.0*math.pi/180.0)))**(2.0*s)*math.exp(-(4.0*lambda_m+1.0)/4.0*(omega_m/omega)**4.0)\n",
    "        return spectrum_11/spectrum_13*spectrum_14*spectrum_15*spectrum_16/spectrum_12\n",
    "    \n",
    "    def spectrum_by_angle(self,omega1,theta_func):#,omega,encount_angle\n",
    "        \"\"\"1峰目\"\"\"\n",
    "        s_1= self.S_max1*(omega1/self.omega_1)**5 if omega1<=self.omega_1 else self.S_max1*(omega1/self.omega_1)**(-2.5)\n",
    "        func1=self.spectrum(self.Hv_1,self.theta_1,self.lambda_1,self.omega_1,s_1,theta_func,omega1)\n",
    "        \"\"\"2峰目\"\"\"\n",
    "        s_2= self.S_max2*(omega1/self.omega_2)**5 if omega1<=self.omega_2 else self.S_max2*(omega1/self.omega_2)**(-2.5)\n",
    "        func2=self.spectrum(self.Hv_2,self.theta_2,self.lambda_2,self.omega_2,s_2,theta_func,omega1) \n",
    "        return (func1+func2)*int(360/(n_angle))*math.pi/180.0      #5°ずつだから\n",
    "\n",
    "\n",
    "class Data_Handling(Wave_Spectrum):\n",
    "    def __init__(self,column1,column2):\n",
    "        self.column1=column1\n",
    "        self.column2=column2\n",
    "        self.response1=strip[:][self.column1]\n",
    "        self.response2=strip[:][self.column2]\n",
    "        self.Se_data=[]\n",
    "        self.S_data=[]\n",
    "        self.z1= 1000*9.8065/Zc if column1 == 5 else 1\n",
    "        self.z2= 1000*9.8065/Zc if column1 == 5 else 1\n",
    "        self.Matrix=[[0 for k in range(2)] for l in range(len(encount_omega_2))] #list(np.linspace(0, 0, len(encount_omega_2)))\n",
    "        #self.omega_vertex=\n",
    "        self.V  =Fn*math.sqrt(349.2*9.80655)\n",
    "    \n",
    "    def Response_calculation(self,line1):\n",
    "        #X_Conjugate = strip[line1][self.column1]*(math.cos(-strip[line1][self.column1+1]*math.pi/180)+1j*math.sin(-strip[line1][self.column1+1]*math.pi/180))\n",
    "        #Y= strip[line1][self.column2]*(math.cos(strip[line1][self.column2+1]*math.pi/180)+1j*math.sin(strip[line1][self.column2+1]*math.pi/180)) \n",
    "        return strip[line1][self.column1]*strip[line1][self.column1]#X_Conjugate*Y #strip_data[line][Column_1]\n",
    "    \n",
    "    def dw_function(self,omega_number):\n",
    "        return np.abs(1.0-2.0*self.V/9.80655*omegalist[omega_number]*math.cos(encount_angle*math.pi/180.0))        \n",
    "    \n",
    "    def To_trans_Se(self):#Eomega1,2=Eomega_fore,aft\n",
    "        \"\"\"線形補間\"\"\"   \n",
    "        Sf_re,Sa_re=self.Response_calculation(line).real*wave_values[w],self.Response_calculation(line-1).real*wave_values[w-1]\n",
    "        Sf_im,Sa_im=self.Response_calculation(line).imag*wave_values[w],self.Response_calculation(line-1).imag*wave_values[w-1]\n",
    "        dw= omegalist[w]-omegalist[w-1]\n",
    "        for w_e in list_omega_j:        \n",
    "            #if math.cos(encount_angle*math.pi/180) >= 9.80655/2/1.37/(Fn*math.sqrt(349.2*9.80655)): #0<ω<1.37[rad/sに頂点がある場合\n",
    "            if switch == 1: #頂点のx座標が挟まれる場合\n",
    "                self.Matrix[w_e][0] += (Sa_re+Sf_re)*dw/2/(omega_vertex/2-min(Eomega1,Eomega2))\n",
    "                self.Matrix[w_e][1] += (Sa_im+Sf_im)*dw/2/(omega_vertex/2-min(Eomega1,Eomega2))\n",
    "            elif switch == 2: #x軸との交点が挟まれる場合\n",
    "                self.Matrix[w_e][0] += (Sa_re+Sf_re)*dw/2/max(Eomega1,Eomega2)\n",
    "                self.Matrix[w_e][1] += (Sa_im+Sf_im)*dw/2/max(Eomega1,Eomega2)\n",
    "            else:\n",
    "                dwe1 = self.dw_function(w-1)\n",
    "                dwe2 = self.dw_function(w)\n",
    "                self.Matrix[w_e][0] +=(Eomega2-encount_omega_2[w_e])/(Eomega2-Eomega1)*Sa_re/dwe1+(encount_omega_2[w_e]-Eomega1)/(Eomega2-Eomega1)*Sf_re/dwe2\n",
    "                self.Matrix[w_e][1] +=(Eomega2-encount_omega_2[w_e])/(Eomega2-Eomega1)*Sa_im/dwe1+(encount_omega_2[w_e]-Eomega1)/(Eomega2-Eomega1)*Sf_im/dwe2\n",
    "            \n",
    "    def final_keisan(self):\n",
    "        F =np.zeros(len(encount_omega_2))\n",
    "        for w_e in range(len(encount_omega_2)):\n",
    "            F[w_e] += math.sqrt(self.Matrix[w_e][0]**2+self.Matrix[w_e][1]**2)*self.z1*self.z2\n",
    "        plt.plot(np.arange(0, 2.11,0.03 ),F,'-o')\n",
    "        plt.grid()\n",
    "        plt.show()\n",
    "        #return F\n",
    "    \n",
    "    def X_final_keisan(self):\n",
    "        \"\"\"足し合わせたベクトルの角度\"\"\"\n",
    "        F_Re=self.Matrix[w_e][0]*self.z1*self.z2\n",
    "        F_Im=self.Matrix[w_e][1]*self.z1*self.z2\n",
    "        \n",
    "\n",
    "\n",
    "\"\"\"ここからはクラスによらないdef関数が続く\"\"\"\n",
    "def get_parameter_from_ind():\n",
    "    \"\"\"波高\"\"\"\n",
    "    Hv_1=0.5+13.5*random.uniform(0,1)\n",
    "    Hv_2= (0.01*Hv_1**2.3+0.5) +((5*(0.9*Hv_1**2-0.44*Hv_1)**0.1)-(0.01*Hv_1**2.3+0.5))*random.uniform(0,1)\n",
    "    Hs    =np.sqrt(Hv_1**2+Hv_2**2)\n",
    "    \n",
    "    \"\"\"波周波数\"\"\"\n",
    "    omega_1 = 2*np.pi/16*np.exp(-0.005*Hs*3.28084)+(2*np.pi/6*np.exp(-0.017*Hs*3.28084)-2*np.pi/16*np.exp(-0.005*Hs*3.28084))*random.uniform(0,1)\n",
    "    w_lower = omega_1 if omega_1>=0.6 else 0.6\n",
    "    omega_2 = w_lower+(2*np.pi/4*np.exp(-0.014*Hs*3.28084)-w_lower)*random.uniform(0,1)\n",
    "        \n",
    "    \"\"\"波向\"\"\"\n",
    "    theta_1  =random.random()*360\n",
    "    theta_2  =random.random()*360\n",
    "    \n",
    "    \"\"\"s\"\"\"\n",
    "    #S_max1=\n",
    "    #S_max2=\n",
    "    \n",
    "    \"\"\"尖度\"\"\"\n",
    "    lambda_1 =0.1+9.9*random.uniform(0,1)\n",
    "    lambda_temp=lambda_1 if lambda_1<=6 else 6\n",
    "    lambda_2 =0.1+(lambda_temp-0.1)*random.uniform(0,1)\n",
    "\n",
    "    \"\"\"\n",
    "    omega_1 = 2*np.pi/14 + (1.2-2*np.pi/14)*random.random()\n",
    "    Wm2_min =omega_1 if omega_1>=0.6 else 0.6\n",
    "    omega_2 =Wm2_min+(2*np.pi/4-Wm2_min)*random.random()\n",
    "\n",
    "    T1      =2*np.pi/omega_1\n",
    "    T2      =2*np.pi/omega_2\n",
    "    Hv_1    =strip_data[int(T1)-4][24]+(strip_data[int(T1)-4][25]-strip_data[int(T1)-4][24])*random.random()\n",
    "    H2_max  =np.sqrt(15**2-Hv_1**2) if np.sqrt(Hv_1**2+strip_data[int(T2)-4][25]**2)>=15 else strip_data[int(T2)-4][25]\n",
    "    H2_min  =strip_data[int(T2)-4][24]\n",
    "    Hv_2    = H2_min+(H2_max-H2_min)*random.random()\"\"\"\n",
    "\n",
    "    Hv_1,theta_1,lambda_1,omega_1,Hv_2,theta_2,lambda_2,omega_2=2.37,-75.41108127,0.85,0.47,2.54,-154.4400348,2.05,0.695\n",
    "    return Hv_1,theta_1,lambda_1,omega_1,Hv_2,theta_2,lambda_2,omega_2#S_max1,S_max2\n",
    "\n",
    "def search_omega_i(i):\n",
    "    \"\"\"間に入る出会い波周波数のリスト作成\"\"\"\n",
    "    Eomega1=np.abs(omegalist[i-1]*(1-Fn*math.sqrt(349.2*9.80655)/9.80655*omegalist[i-1]*math.cos(encount_angle*math.pi/180)))\n",
    "    Eomega2=np.abs(omegalist[i]*(1-Fn*math.sqrt(349.2*9.80655)/9.80655*omegalist[i]*math.cos(encount_angle*math.pi/180)))\n",
    "    Eomega_fore = max(Eomega1,Eomega2)\n",
    "    Eomega_aft =  min(Eomega1,Eomega2)\n",
    "    switch=0#0は通常，１は頂点が挟まれる，２はｘとの交点が挟まれる\n",
    "    if (omega_vertex - omegalist[i-1])*(omega_vertex -omegalist[i]) <= 0.000: #頂点のx座標が挟まれる場合\n",
    "        Eomega_fore = omega_vertex/2 #頂点のy座標はx座標の半分だから\n",
    "        switch=1\n",
    "    elif (omega_vertex*2 - omegalist[i-1])*(omega_vertex*2 -omegalist[i]) <= 0: #x軸との交点が挟まれる場合\n",
    "        Eomega_aft = np.abs(0.0)\n",
    "        switch=2\n",
    "    return np.arange(len(encount_omega_2))[np.array( (encount_omega_2-Eomega_fore)*(encount_omega_2-Eomega_aft) <= 0 ).flatten()] ,Eomega1, Eomega2,switch"
   ]
  },
  {
   "cell_type": "code",
   "execution_count": 220,
   "metadata": {},
   "outputs": [
    {
     "data": {
      "image/png": "[encoded data removed]",
      "text/plain": [
       "<Figure size 432x288 with 1 Axes>"
      ]
     },
     "metadata": {},
     "output_type": "display_data"
    },
    {
     "name": "stdout",
     "output_type": "stream",
     "text": [
      "1\n"
     ]
    }
   ],
   "source": [
    "for SeaState in range(1):#海象データ数分だけ繰り返す\n",
    "    random.seed()\n",
    "    \"\"\"この海象のパラメータ\"\"\"\n",
    "    Hv_1,theta_1,lambda_1,omega_1,Hv_2,theta_2,lambda_2,omega_2 = get_parameter_from_ind()#S_max1,S_max2\n",
    "    wave=Wave_Spectrum()\n",
    "    wave.S_max1=32.37#wave.def_S_max(Hv_1,omega_1)\n",
    "    wave.S_max2=6.23#wave.def_S_max(Hv_2,omega_2)\n",
    "    \n",
    "    for speed in range(1): #6フルード数ごと 0,5,10,15,20,25\n",
    "        Fn    = 0.176#strip_data[n_lambda*n_angle*k][0]#フルード数\n",
    "        \"\"\"データを扱うためのクラス\"\"\"\n",
    "        #Pitch=Data_Handling(4,4)#13\n",
    "        #Roll =Data_Handling(11,11)\n",
    "        #Heave=Data_Handling( 9, 9)\n",
    "        Load =Data_Handling(5,5)#zを乗算するところのif分で列番号直すの忘れずに！\n",
    "        #Pitch_Roll  =Data_Handling(13,11)\n",
    "        #Roll_Heave  =Data_Handling(11, 9)\n",
    "        #Heave_Pitch =Data_Handling( 9,13)\n",
    "        #Load_Roll   =Data_Handling(17,11)\n",
    "        #Load_Heave  =Data_Handling(17, 9)\n",
    "        #Load_Pitch  =Data_Handling(17,13)\n",
    "        \n",
    "        for j,encount_angle in enumerate(np.arange(0,360,360/n_angle)): #36の角度 \n",
    "            \n",
    "            #wave_values=[wave.spectrum_by_angle(omega1,encount_angle ) for omega1 in omegalist]\n",
    "            wave_values=[wavedata[24-omega1][j] for omega1 in range(25)]\n",
    "            omega_vertex  = 9.80655/(2*Fn*math.sqrt(349.2*9.80655)*math.cos(encount_angle*math.pi/180)) #頂点のx座標\n",
    "            \n",
    "            for w in range(1,len(omegalist)): #25周波数ごと n_lambda\n",
    "                line = w+n_lambda*j+n_lambda*n_angle*speed    #行           \n",
    "                list_omega_j,Eomega1, Eomega2,switch = search_omega_i(w)\n",
    "                \"\"\"それぞれの応答で変換実行\"\"\"                    \n",
    "                #Pitch.To_trans_Se()\n",
    "                #Roll.To_trans_Se()\n",
    "                #Heave.To_trans_Se()\n",
    "                Load.To_trans_Se()\n",
    "                #Pitch_Roll.To_trans_Se()\n",
    "                #Roll_Heave.To_trans_Se()\n",
    "                #Heave_Pitch.To_trans_Se()\n",
    "                #Load_Roll.To_trans_Se()\n",
    "                #Load_Heave.To_trans_Se()\n",
    "                #Load_Pitch.To_trans_Se()\n",
    "        \"\"\"最終アウトプット\"\"\"        \n",
    "        #Pitch.final_keisan()\n",
    "        #Roll.final_keisan()\n",
    "        #Heave.final_keisan()\n",
    "        Load.final_keisan()\n",
    "        #Pitch_Roll.X_final_keisan()\n",
    "        #Roll_Heave.X_final_keisan()\n",
    "        #Heave_Pitch.X_final_keisan()\n",
    "        #Load_Roll.X_final_keisan()\n",
    "        #Load_Heave.X_final_keisan()\n",
    "        #Load_Pitch.X_final_keisan()\n",
    "    print(SeaState+1)"
   ]
  },
  {
   "cell_type": "code",
   "execution_count": null,
   "metadata": {},
   "outputs": [],
   "source": []
  }
 ],
 "metadata": {
  "kernelspec": {
   "display_name": "Python 3",
   "language": "python",
   "name": "python3"
  },
  "language_info": {
   "codemirror_mode": {
    "name": "ipython",
    "version": 3
   },
   "file_extension": ".py",
   "mimetype": "text/x-python",
   "name": "python",
   "nbconvert_exporter": "python",
   "pygments_lexer": "ipython3",
   "version": "3.6.5"
  }
 },
 "nbformat": 4,
 "nbformat_minor": 2
}
